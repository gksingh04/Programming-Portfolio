{
 "cells": [
  {
   "cell_type": "code",
   "execution_count": 1,
   "metadata": {},
   "outputs": [],
   "source": [
    "import sklearn"
   ]
  },
  {
   "cell_type": "code",
   "execution_count": 2,
   "metadata": {},
   "outputs": [
    {
     "name": "stdout",
     "output_type": "stream",
     "text": [
      "0.23.1\n"
     ]
    }
   ],
   "source": [
    "print(sklearn.__version__)"
   ]
  },
  {
   "cell_type": "code",
   "execution_count": 3,
   "metadata": {},
   "outputs": [],
   "source": [
    "import numpy as np"
   ]
  },
  {
   "cell_type": "code",
   "execution_count": 4,
   "metadata": {},
   "outputs": [],
   "source": [
    "X,y = np.arange(20).reshape((10,2)),range(10)"
   ]
  },
  {
   "cell_type": "code",
   "execution_count": 5,
   "metadata": {},
   "outputs": [
    {
     "data": {
      "text/plain": [
       "array([[ 0,  1],\n",
       "       [ 2,  3],\n",
       "       [ 4,  5],\n",
       "       [ 6,  7],\n",
       "       [ 8,  9],\n",
       "       [10, 11],\n",
       "       [12, 13],\n",
       "       [14, 15],\n",
       "       [16, 17],\n",
       "       [18, 19]])"
      ]
     },
     "execution_count": 5,
     "metadata": {},
     "output_type": "execute_result"
    }
   ],
   "source": [
    "X"
   ]
  },
  {
   "cell_type": "code",
   "execution_count": 6,
   "metadata": {},
   "outputs": [
    {
     "data": {
      "text/plain": [
       "range(0, 10)"
      ]
     },
     "execution_count": 6,
     "metadata": {},
     "output_type": "execute_result"
    }
   ],
   "source": [
    "y"
   ]
  },
  {
   "cell_type": "code",
   "execution_count": 7,
   "metadata": {},
   "outputs": [],
   "source": [
    "from sklearn.model_selection import train_test_split"
   ]
  },
  {
   "cell_type": "code",
   "execution_count": 8,
   "metadata": {},
   "outputs": [],
   "source": [
    " X_train, X_test, y_train, y_test = train_test_split(X, y, test_size=0.3, random_state=42)"
   ]
  },
  {
   "cell_type": "code",
   "execution_count": 9,
   "metadata": {},
   "outputs": [
    {
     "data": {
      "text/plain": [
       "array([[ 0,  1],\n",
       "       [14, 15],\n",
       "       [ 4,  5],\n",
       "       [18, 19],\n",
       "       [ 8,  9],\n",
       "       [ 6,  7],\n",
       "       [12, 13]])"
      ]
     },
     "execution_count": 9,
     "metadata": {},
     "output_type": "execute_result"
    }
   ],
   "source": [
    "X_train"
   ]
  },
  {
   "cell_type": "code",
   "execution_count": 10,
   "metadata": {},
   "outputs": [
    {
     "data": {
      "text/plain": [
       "array([[16, 17],\n",
       "       [ 2,  3],\n",
       "       [10, 11]])"
      ]
     },
     "execution_count": 10,
     "metadata": {},
     "output_type": "execute_result"
    }
   ],
   "source": [
    "X_test"
   ]
  },
  {
   "cell_type": "code",
   "execution_count": 11,
   "metadata": {},
   "outputs": [
    {
     "data": {
      "text/plain": [
       "[0, 7, 2, 9, 4, 3, 6]"
      ]
     },
     "execution_count": 11,
     "metadata": {},
     "output_type": "execute_result"
    }
   ],
   "source": [
    " y_train"
   ]
  },
  {
   "cell_type": "code",
   "execution_count": 12,
   "metadata": {},
   "outputs": [
    {
     "data": {
      "text/plain": [
       "[8, 1, 5]"
      ]
     },
     "execution_count": 12,
     "metadata": {},
     "output_type": "execute_result"
    }
   ],
   "source": [
    " y_test"
   ]
  },
  {
   "cell_type": "code",
   "execution_count": 13,
   "metadata": {},
   "outputs": [],
   "source": [
    "import statistics"
   ]
  },
  {
   "cell_type": "code",
   "execution_count": 14,
   "metadata": {},
   "outputs": [],
   "source": [
    "m=np.random.randint(7,10,21)"
   ]
  },
  {
   "cell_type": "code",
   "execution_count": 15,
   "metadata": {},
   "outputs": [
    {
     "data": {
      "text/plain": [
       "array([8, 7, 9, 8, 9, 7, 8, 7, 9, 9, 8, 7, 8, 9, 7, 9, 7, 9, 9, 7, 9])"
      ]
     },
     "execution_count": 15,
     "metadata": {},
     "output_type": "execute_result"
    }
   ],
   "source": [
    "m"
   ]
  },
  {
   "cell_type": "code",
   "execution_count": 16,
   "metadata": {},
   "outputs": [],
   "source": [
    "Mean=statistics.mean(m)"
   ]
  },
  {
   "cell_type": "code",
   "execution_count": 17,
   "metadata": {},
   "outputs": [
    {
     "data": {
      "text/plain": [
       "8"
      ]
     },
     "execution_count": 17,
     "metadata": {},
     "output_type": "execute_result"
    }
   ],
   "source": [
    "Mean"
   ]
  },
  {
   "cell_type": "code",
   "execution_count": 18,
   "metadata": {},
   "outputs": [],
   "source": [
    "Median=statistics.median(m)"
   ]
  },
  {
   "cell_type": "code",
   "execution_count": 19,
   "metadata": {},
   "outputs": [
    {
     "data": {
      "text/plain": [
       "8"
      ]
     },
     "execution_count": 19,
     "metadata": {},
     "output_type": "execute_result"
    }
   ],
   "source": [
    "Median"
   ]
  },
  {
   "cell_type": "code",
   "execution_count": 20,
   "metadata": {},
   "outputs": [],
   "source": [
    "Mode=statistics.mode(m)"
   ]
  },
  {
   "cell_type": "code",
   "execution_count": 21,
   "metadata": {},
   "outputs": [
    {
     "data": {
      "text/plain": [
       "9"
      ]
     },
     "execution_count": 21,
     "metadata": {},
     "output_type": "execute_result"
    }
   ],
   "source": [
    "Mode"
   ]
  },
  {
   "cell_type": "code",
   "execution_count": 22,
   "metadata": {},
   "outputs": [],
   "source": [
    "n=np.random.randn(30)"
   ]
  },
  {
   "cell_type": "code",
   "execution_count": 23,
   "metadata": {},
   "outputs": [
    {
     "data": {
      "text/plain": [
       "array([ 0.54902494, -1.70744801,  0.00826775, -1.98754095, -0.61157808,\n",
       "        0.5871349 ,  2.02851779,  0.4944973 ,  1.34938762,  0.77776325,\n",
       "       -0.99910648,  0.48723023,  0.3181641 ,  0.6743284 , -0.03263161,\n",
       "        0.28461073,  0.40216652, -1.65422413, -0.37537361, -0.40050562,\n",
       "        2.17121848,  1.17658938, -1.63637752, -1.11526706,  0.52624885,\n",
       "       -0.84638386,  1.61970256, -0.16439934, -0.65162753, -0.26201471])"
      ]
     },
     "execution_count": 23,
     "metadata": {},
     "output_type": "execute_result"
    }
   ],
   "source": [
    "n"
   ]
  },
  {
   "cell_type": "code",
   "execution_count": 24,
   "metadata": {},
   "outputs": [],
   "source": [
    "# Range=max(n)-min(n)"
   ]
  },
  {
   "cell_type": "code",
   "execution_count": 25,
   "metadata": {},
   "outputs": [],
   "source": [
    "Range=np.max(n)-np.min(n)"
   ]
  },
  {
   "cell_type": "code",
   "execution_count": 26,
   "metadata": {},
   "outputs": [
    {
     "data": {
      "text/plain": [
       "4.158759431331994"
      ]
     },
     "execution_count": 26,
     "metadata": {},
     "output_type": "execute_result"
    }
   ],
   "source": [
    "Range"
   ]
  },
  {
   "cell_type": "code",
   "execution_count": 27,
   "metadata": {},
   "outputs": [],
   "source": [
    "Q1=np.percentile(n,25)"
   ]
  },
  {
   "cell_type": "code",
   "execution_count": 28,
   "metadata": {},
   "outputs": [
    {
     "data": {
      "text/plain": [
       "-0.6416151696065558"
      ]
     },
     "execution_count": 28,
     "metadata": {},
     "output_type": "execute_result"
    }
   ],
   "source": [
    "Q1"
   ]
  },
  {
   "cell_type": "code",
   "execution_count": 29,
   "metadata": {},
   "outputs": [
    {
     "data": {
      "text/plain": [
       "0.14643923858362112"
      ]
     },
     "execution_count": 29,
     "metadata": {},
     "output_type": "execute_result"
    }
   ],
   "source": [
    "Q2=np.percentile(n,50)\n",
    "Q2"
   ]
  },
  {
   "cell_type": "code",
   "execution_count": 30,
   "metadata": {},
   "outputs": [
    {
     "data": {
      "text/plain": [
       "0.5776074085452689"
      ]
     },
     "execution_count": 30,
     "metadata": {},
     "output_type": "execute_result"
    }
   ],
   "source": [
    "Q3=np.percentile(n,75)\n",
    "Q3"
   ]
  },
  {
   "cell_type": "code",
   "execution_count": 31,
   "metadata": {},
   "outputs": [],
   "source": [
    "IQR=Q3-Q1"
   ]
  },
  {
   "cell_type": "code",
   "execution_count": 32,
   "metadata": {},
   "outputs": [
    {
     "data": {
      "text/plain": [
       "1.2192225781518249"
      ]
     },
     "execution_count": 32,
     "metadata": {},
     "output_type": "execute_result"
    }
   ],
   "source": [
    "IQR"
   ]
  },
  {
   "cell_type": "code",
   "execution_count": 33,
   "metadata": {},
   "outputs": [
    {
     "data": {
      "text/plain": [
       "1.128912164969504"
      ]
     },
     "execution_count": 33,
     "metadata": {},
     "output_type": "execute_result"
    }
   ],
   "source": [
    "v=np.var(n)\n",
    "v"
   ]
  },
  {
   "cell_type": "code",
   "execution_count": 34,
   "metadata": {},
   "outputs": [],
   "source": [
    "s=np.std(n)"
   ]
  },
  {
   "cell_type": "code",
   "execution_count": 35,
   "metadata": {},
   "outputs": [
    {
     "data": {
      "text/plain": [
       "1.0625027835114147"
      ]
     },
     "execution_count": 35,
     "metadata": {},
     "output_type": "execute_result"
    }
   ],
   "source": [
    "s"
   ]
  },
  {
   "cell_type": "code",
   "execution_count": 36,
   "metadata": {},
   "outputs": [],
   "source": [
    "# normal distribution"
   ]
  },
  {
   "cell_type": "code",
   "execution_count": 37,
   "metadata": {},
   "outputs": [],
   "source": [
    "from numpy import random"
   ]
  },
  {
   "cell_type": "code",
   "execution_count": 40,
   "metadata": {},
   "outputs": [
    {
     "data": {
      "text/plain": [
       "-0.322539884526644"
      ]
     },
     "execution_count": 40,
     "metadata": {},
     "output_type": "execute_result"
    }
   ],
   "source": [
    "x=random.normal()\n",
    "x"
   ]
  },
  {
   "cell_type": "code",
   "execution_count": 41,
   "metadata": {},
   "outputs": [
    {
     "data": {
      "text/plain": [
       "array([[-0.29907265,  0.62789528,  0.43906999],\n",
       "       [ 2.41419151, -1.28376561, -0.49889427]])"
      ]
     },
     "execution_count": 41,
     "metadata": {},
     "output_type": "execute_result"
    }
   ],
   "source": [
    "x=random.normal(size=(2,3))\n",
    "x"
   ]
  },
  {
   "cell_type": "code",
   "execution_count": 42,
   "metadata": {},
   "outputs": [
    {
     "data": {
      "text/plain": [
       "array([[0.6481767 , 1.4542384 , 1.55064788],\n",
       "       [2.30397209, 1.52377275, 3.86869763]])"
      ]
     },
     "execution_count": 42,
     "metadata": {},
     "output_type": "execute_result"
    }
   ],
   "source": [
    "x=random.normal(loc=1,scale=1,size=(2,3))\n",
    "x"
   ]
  },
  {
   "cell_type": "code",
   "execution_count": 53,
   "metadata": {},
   "outputs": [
    {
     "data": {
      "text/plain": [
       "array([-2.14177987e+00, -2.02548444e-01,  1.37988583e+00, -4.03549060e-01,\n",
       "       -3.38729168e-02,  5.81761042e+00,  1.13441959e+01,  6.79993596e-01,\n",
       "        3.47940820e+00,  2.27634024e+00,  1.01437749e+01, -3.45772673e+00,\n",
       "        2.66372979e+00,  1.04097830e+00,  7.69798099e+00, -6.83691462e+00,\n",
       "        1.23915570e+00, -3.83249311e-01, -5.74919188e+00, -2.88713708e+00,\n",
       "        1.65214885e+00,  7.48165224e-01,  4.36904865e+00, -8.88490445e+00,\n",
       "       -4.21345605e+00,  3.36546776e+00,  2.16103763e+00,  7.01257038e+00,\n",
       "       -1.93494564e+00,  2.91325154e+00, -6.02092267e+00,  1.99292576e+00,\n",
       "        1.43840353e+00, -4.38263993e+00,  1.57138795e+00,  1.22023195e+00,\n",
       "        3.56856521e+00,  1.32754453e+00,  8.49976422e+00, -1.84320016e+00,\n",
       "        4.74776216e-01,  7.14354117e+00, -3.69745829e-01, -3.46481029e+00,\n",
       "       -2.19985550e+00, -1.68026789e+00,  3.47725187e+00, -1.57233557e-01,\n",
       "       -4.79239423e+00,  1.26452720e+01, -7.66477895e+00,  6.91381126e+00,\n",
       "        6.86585467e+00, -8.19393169e+00,  8.79920320e+00,  3.89246728e+00,\n",
       "        9.93398461e+00,  8.80797415e-02, -5.11172274e+00, -1.17925355e+00,\n",
       "        5.02844381e+00,  6.85697286e+00, -3.36552746e+00, -7.97288820e+00,\n",
       "        6.99412967e+00, -1.77076504e+00,  2.31292631e+00, -1.51980327e-01,\n",
       "        6.20975448e+00, -2.53339574e+00, -1.84272317e+00, -3.69181647e+00,\n",
       "       -1.45015573e-01, -1.74470809e+00, -3.78578517e+00,  8.05272975e+00,\n",
       "       -2.81342604e+00,  4.00096718e+00,  1.01063455e+01, -5.89525333e+00,\n",
       "        1.13834775e+01,  7.76321251e+00,  5.94136338e+00, -4.93016465e+00,\n",
       "       -4.06802451e+00,  1.69940897e+00, -1.52413255e+00,  1.16128676e+00,\n",
       "        5.57977193e+00,  1.33299114e+00, -9.95439980e+00,  4.72656522e+00,\n",
       "       -1.55926131e+00, -1.35586563e+00,  4.17308728e+00,  3.05551682e+00,\n",
       "       -6.61335966e-01,  1.01988908e+01, -1.43163444e-01, -5.08511344e+00,\n",
       "        3.11134777e+00,  7.78401008e-01, -5.60988486e+00, -6.93753765e+00,\n",
       "        7.42579062e+00,  7.61375529e+00, -4.15038354e+00,  1.28833441e+00,\n",
       "       -1.97005253e+00,  7.30964420e+00, -4.12734685e+00,  4.26351153e+00,\n",
       "        4.66355451e+00, -1.39437249e+00, -7.74493615e+00, -9.61799122e+00,\n",
       "        1.16116065e+00,  1.96873478e-01,  1.41874729e+00,  2.75549356e+00,\n",
       "        4.21224366e+00,  1.68632357e+00, -8.66774095e-01,  3.53587623e+00,\n",
       "        8.09581857e-01,  1.33221800e+00, -4.29801538e-01, -1.32585755e+00,\n",
       "       -3.68680883e+00,  1.03428036e+00,  6.05387797e+00,  1.92329726e+00,\n",
       "       -2.47002003e+00,  1.24809319e+00,  8.44015648e-01, -2.52290901e-01,\n",
       "       -3.74972890e+00,  6.55027100e+00,  1.91604127e+00,  3.00910776e+00,\n",
       "       -1.93217507e-02, -6.12366535e+00,  1.93920736e+00,  4.41788970e-01,\n",
       "       -3.05774741e+00,  4.77331444e+00,  1.54272141e-01,  1.95195817e+00,\n",
       "       -2.37063648e+00,  4.19715100e-01,  1.98320194e+00,  5.41905729e+00,\n",
       "       -2.06432232e+00,  2.30878068e+00,  6.80691032e-01, -9.61182665e+00,\n",
       "       -3.09103750e+00,  1.00967316e+00,  5.61923226e+00,  2.09915627e+00,\n",
       "        6.70729860e+00,  5.23504422e+00,  5.87194800e+00, -5.36954828e+00,\n",
       "       -2.58182288e+00,  1.82851227e+00,  8.65241668e+00,  2.06504675e+00,\n",
       "       -4.13581976e+00,  6.91811860e+00,  5.15811902e+00,  8.95583697e+00,\n",
       "        4.06064429e+00,  2.61902723e+00, -4.96049498e+00, -2.70542098e+00,\n",
       "       -1.41919023e+00, -6.79097428e+00, -2.08053327e+00, -2.38597892e+00,\n",
       "       -1.05964876e+01,  2.19676320e-01,  1.16239234e+01, -1.36955678e+00,\n",
       "        5.08184210e+00,  8.71155919e+00,  6.67003555e+00,  6.50289266e+00,\n",
       "        4.25740990e+00,  3.92668609e+00,  4.06326934e+00, -1.40723491e-01,\n",
       "       -1.14264222e+01,  3.95741587e-01, -2.94789108e+00,  7.99339481e+00,\n",
       "       -6.14497706e-01, -7.71469924e-01, -3.46265939e+00,  1.39301707e+00,\n",
       "        7.72942032e+00,  2.72228575e+00, -3.45958151e+00, -4.70435672e+00,\n",
       "        4.78154142e+00, -9.62993953e+00,  1.13920224e+01,  5.27630074e+00,\n",
       "       -3.97045210e+00,  6.31767375e+00,  2.40428230e+00,  5.14308905e+00,\n",
       "        1.34331361e+00,  5.28496660e+00,  1.13450397e+01, -4.94134964e+00,\n",
       "        6.79694880e+00, -5.10680218e+00, -2.20023291e+00, -1.23918410e+00,\n",
       "       -4.23739414e+00,  1.59337024e+01, -9.21502034e+00,  1.28502118e+00,\n",
       "        8.56839020e-01,  8.53230075e+00,  1.06585819e+01, -1.39450735e+01,\n",
       "        2.29519316e+00, -6.20282355e-01, -7.08557052e-01,  5.38350161e-01,\n",
       "        3.77831272e+00,  1.26501666e+00, -8.95051301e-01,  4.65565238e+00,\n",
       "        2.56429751e+00, -2.47601046e+00,  7.31773404e+00,  2.90161904e+00,\n",
       "       -1.37128695e+00,  4.66303793e+00,  4.63248583e+00,  5.38505208e+00,\n",
       "       -1.67995876e+00, -4.45410719e+00, -1.38412910e+01,  2.47942765e+00,\n",
       "       -3.41979205e+00,  1.02669135e+01, -4.85190997e-01, -1.18297212e+00,\n",
       "        5.90217118e+00,  1.05292775e+01,  1.60889738e+00, -7.38373778e+00,\n",
       "        1.32581627e+00, -8.33340771e-01,  1.23668825e+01,  3.56551422e+00,\n",
       "       -2.51083653e+00,  5.85259730e+00, -6.37559618e+00, -3.14986039e+00,\n",
       "       -1.94404855e+00, -2.79015297e+00,  9.66757146e-02,  6.00051638e+00,\n",
       "       -1.12112116e+00,  2.52027727e+00, -4.57935134e+00,  6.79349182e+00,\n",
       "        6.85299609e+00,  1.27840031e+01,  4.98828080e+00, -9.28705543e-01,\n",
       "       -1.89803322e+00,  1.11014343e-01, -1.74714942e+00,  1.75945479e+00,\n",
       "        4.04533154e+00,  2.01378488e+00,  4.13088809e+00, -1.22706153e+00,\n",
       "       -7.40637270e+00, -8.99220134e+00,  4.64006288e+00,  9.61356415e+00,\n",
       "        7.67197189e+00,  1.11038766e+00, -2.01040946e+00,  4.70902252e+00,\n",
       "        4.81500260e+00, -2.27893204e+00, -9.18442124e+00, -5.21227311e+00,\n",
       "        7.50510165e+00, -1.38926480e+00,  2.46769020e+00,  3.38118662e+00,\n",
       "       -5.55932604e+00, -3.94884100e+00, -1.73474178e-01, -5.24881680e+00,\n",
       "        5.76681893e+00,  6.50615167e+00,  2.13416897e+00, -4.54623845e+00,\n",
       "       -2.57540056e-01,  7.44843795e+00, -3.02879409e+00,  4.94680397e+00,\n",
       "       -6.54381288e+00,  4.48897938e+00, -1.67462805e+00,  3.40294257e+00,\n",
       "       -1.06805953e+00,  1.06085713e+01,  3.44576391e-01, -1.13741315e+00,\n",
       "       -6.61634153e+00,  9.09129680e+00, -2.05196083e+00,  7.16440965e+00,\n",
       "        2.53985209e+00,  3.88999848e+00, -1.60621641e+00,  3.61877533e+00,\n",
       "       -8.11482396e+00, -1.15216195e+00,  2.06884937e+00, -1.45053192e+00,\n",
       "       -2.80583112e-01, -2.64269587e-01,  1.05058195e+01,  4.05810860e+00,\n",
       "        7.45666456e+00, -2.07191390e+00,  4.18483461e+00,  9.90987069e+00,\n",
       "        1.03891327e+01, -8.43350250e+00,  1.32097431e+00, -2.82500546e+00,\n",
       "        2.69038779e+00,  3.32468085e+00, -2.05046893e+00,  1.92914364e+00,\n",
       "        5.68753450e+00,  1.27667441e+00,  4.14572390e+00,  5.37226875e+00,\n",
       "        2.08103554e+00,  3.59319600e+00,  1.24155799e+01,  3.08196813e+00,\n",
       "        1.05421852e+01,  4.74275527e-01,  7.38230489e+00, -4.12580598e-01,\n",
       "        4.78273141e+00, -2.85720627e+00, -2.87651443e+00,  2.79042762e+00,\n",
       "        1.05526347e+01,  4.25314159e+00, -6.61646003e+00,  5.07747978e+00,\n",
       "       -9.72606756e+00, -4.14334015e-01, -8.42485372e+00,  8.18033913e+00,\n",
       "       -8.59361455e-01, -2.15740797e+00,  8.31629796e+00,  2.69052885e+00,\n",
       "        3.46289215e+00,  3.26384185e+00, -8.18581388e-01, -6.01504320e+00,\n",
       "        3.27651702e+00,  5.05792624e+00, -2.59810684e+00,  1.42218748e+00,\n",
       "        2.91529140e+00, -7.79694860e+00, -3.12345697e+00,  4.49108645e+00,\n",
       "       -7.87208051e-01, -3.48321956e+00,  1.48506769e+00,  2.70302162e+00,\n",
       "       -1.19971644e+00,  3.45905231e+00,  1.86979444e+00,  2.76096396e+00,\n",
       "       -3.35513831e-01, -6.41002439e+00, -2.63355916e+00,  7.83660644e+00,\n",
       "       -1.28964607e+01, -2.99945696e+00,  4.39106309e+00,  5.48955723e+00,\n",
       "       -2.47810207e+00, -6.10649124e+00,  6.47906085e+00, -9.54150767e-01,\n",
       "        1.30537645e+00,  5.05936651e+00,  1.89673338e+00,  8.19782711e+00,\n",
       "       -6.93335562e+00,  8.74714805e+00,  9.58990293e+00, -5.01489843e-01,\n",
       "        4.41263986e-02, -2.22282066e+00, -4.59917083e+00,  8.71032774e+00,\n",
       "        3.96806509e+00, -4.72006257e+00,  8.11684195e+00,  5.05244248e+00,\n",
       "       -6.77182246e+00,  5.05661986e+00,  5.14378091e+00,  3.32395160e+00,\n",
       "       -8.89854684e-01, -2.05334240e+00, -1.79600931e+00,  1.52946216e+00,\n",
       "        2.87426899e-01,  6.30448656e+00,  7.00934934e+00,  2.65708502e+00,\n",
       "        6.21447280e-01,  2.31364076e+00,  1.06397725e+00,  3.28691373e+00,\n",
       "       -2.90238554e+00,  1.95008406e+00, -4.13207660e+00,  4.70585357e+00,\n",
       "       -5.91490344e+00, -1.23861552e-01, -3.65388393e-01,  3.55521882e+00,\n",
       "       -9.24783478e+00, -2.60360948e+00,  4.64354553e-01,  7.84567423e-01,\n",
       "       -7.24376793e+00, -8.17362813e-01,  1.00333071e+00, -1.16235676e+01,\n",
       "        3.57750812e+00,  9.14196024e-01,  1.90750482e+00,  2.28198368e+00,\n",
       "        1.65797187e+00,  6.44132353e+00,  5.16719782e+00, -9.30496431e+00,\n",
       "       -2.67762463e+00, -2.18329489e-01,  4.26872522e+00, -6.75852038e-02,\n",
       "       -9.72506558e-01, -2.05852354e+00, -7.70086296e-01,  4.38752429e+00,\n",
       "       -2.65218598e-01,  1.41572073e+00,  1.81341638e+00, -5.16127539e+00,\n",
       "        2.31355244e+00,  9.39913067e+00,  3.09330468e+00, -1.74463298e+00,\n",
       "        6.64436742e+00, -9.69980018e+00,  5.29871299e+00,  2.37847845e+00,\n",
       "        5.90411016e+00,  6.05268808e-01, -3.46429755e+00,  5.79122573e+00,\n",
       "        3.37748501e+00, -5.14170346e+00,  7.40343831e+00, -8.52771753e-01,\n",
       "       -2.02232648e+00, -7.26270827e-01, -7.90388142e-01, -2.23093939e+00,\n",
       "        2.42010969e+00, -6.36412111e+00, -3.21045355e-02, -4.45028314e+00,\n",
       "        7.81788680e+00, -9.32700685e+00,  7.68428489e+00,  1.75535502e+00,\n",
       "        6.39408614e-01, -5.12671848e+00,  7.17332093e-01, -9.21077962e+00,\n",
       "       -4.01316412e+00, -5.20968331e+00,  1.23992974e+00, -6.58886199e+00,\n",
       "        8.26678953e+00,  7.90129164e+00,  1.41829008e+00,  5.37583807e+00,\n",
       "        9.23755517e+00, -2.33480857e+00, -4.73275696e-01,  5.47126163e+00,\n",
       "       -3.56387681e+00,  3.72145383e+00,  3.53837806e-01,  9.20654375e+00,\n",
       "        1.84518306e+00,  6.23582474e+00,  4.55855811e+00,  2.38274820e+00,\n",
       "        6.66294245e+00,  8.34635114e+00,  3.03984320e+00, -9.60468348e-02,\n",
       "       -5.80061866e+00,  1.44464561e+00,  3.21342033e+00,  4.19953353e+00,\n",
       "        1.51785781e+00,  7.16902245e+00,  3.09588999e+00, -2.66807867e+00,\n",
       "       -1.73837178e+01, -3.17205490e+00,  1.10053062e+01, -3.51194120e+00,\n",
       "        7.61108125e-02, -3.99750125e-01,  3.83564046e+00, -5.86069358e+00,\n",
       "       -3.64432014e+00,  3.22213445e+00, -4.60049082e-01,  6.24754883e-01,\n",
       "        2.53369779e+00, -6.19742742e+00,  1.61866824e+00, -1.31769088e-01,\n",
       "       -3.17641246e+00,  6.33645196e+00,  7.25993935e+00, -9.81925215e-01,\n",
       "        6.27000889e+00,  5.39143767e-01, -7.25011567e+00, -1.62041235e+00,\n",
       "        1.48017175e+01, -4.70483968e+00,  2.85656831e+00,  6.59507550e+00,\n",
       "       -5.96576790e+00,  5.98867547e+00,  2.75912286e+00,  8.64892026e+00,\n",
       "        3.41734941e+00,  3.42507665e-02, -9.14696344e-01,  1.76361562e+00,\n",
       "        6.37972467e+00,  3.56420448e+00, -2.38986794e+00, -2.59954066e+00,\n",
       "        2.07718226e+00,  4.10030870e+00,  2.04532539e+00, -2.89191600e+00,\n",
       "       -2.56753228e+00, -3.75381058e+00,  9.99687046e-01,  2.41810995e+00,\n",
       "       -8.59315759e-01,  1.45725605e+00, -8.24746525e-01, -3.52683953e+00,\n",
       "        1.07216067e+00, -2.43192943e+00, -6.17799026e+00, -1.46514861e+00,\n",
       "        1.95341864e+00, -1.04083840e+00,  5.91431709e+00, -1.04101882e+00,\n",
       "       -4.10267881e+00, -1.50285108e-01, -6.83233321e+00,  3.16984972e+00,\n",
       "        3.03398775e-01,  9.00446805e-01,  4.03336120e+00,  7.04861168e+00,\n",
       "        1.00981341e+00,  1.42670828e+00,  2.81530258e+00,  3.66592252e+00,\n",
       "        2.35925252e+00,  1.58075478e+00,  4.11505108e-01,  9.72867109e-02,\n",
       "        8.90593576e+00, -8.13058670e+00,  2.82587614e+00,  6.45509188e+00,\n",
       "        2.70625449e+00, -4.63123258e+00,  1.81777423e-01,  7.55759156e+00,\n",
       "       -1.20371492e+00,  6.21698876e+00, -7.85441502e-01, -1.07939679e+00,\n",
       "       -2.61980898e-01, -4.38409468e+00,  7.78314890e+00, -5.63288594e+00,\n",
       "       -7.14100772e-01,  7.93098852e+00,  1.02527377e+01,  1.61745053e+00,\n",
       "        2.75385046e+00,  3.31341172e+00,  8.58515033e-01, -7.15988792e+00,\n",
       "        5.54819042e+00,  5.98708783e+00,  9.50490988e+00, -7.69019207e-01,\n",
       "        2.16198318e+00, -7.41445520e-01,  5.40575452e+00,  7.45595081e+00,\n",
       "        1.35125533e+00, -6.83154957e-01,  1.97171046e+00, -5.13308699e-01,\n",
       "        4.34475207e+00,  2.97841133e+00, -7.21121262e+00, -1.91469279e+00,\n",
       "        1.26623568e+01,  6.16767032e+00,  8.28133971e+00,  4.88141550e+00,\n",
       "       -5.84678467e+00,  1.56326865e+00, -5.46941324e+00,  3.39848410e+00,\n",
       "       -5.11901528e+00,  8.93035068e+00,  6.33866512e+00, -1.79050242e+00,\n",
       "       -1.87824441e+00,  2.14574623e+00,  1.15785126e+00, -6.86454346e+00,\n",
       "        2.28130180e+00,  9.29861178e+00,  4.49930745e+00, -8.04041474e+00,\n",
       "       -2.87537817e+00,  7.38725158e+00, -4.36078994e-01, -7.51816936e-01,\n",
       "        9.59032818e-02, -5.71888722e-01, -4.05330932e+00, -1.90023578e+00,\n",
       "       -1.35646630e+00,  1.27687617e+01,  5.40100123e+00,  5.20238467e+00,\n",
       "        1.93579944e+00,  7.78769114e+00,  1.87553068e-02,  8.23124454e-01,\n",
       "        3.12465747e+00,  6.56144182e+00, -3.39999479e+00, -3.23787020e+00,\n",
       "       -2.78452738e+00, -2.94596543e+00, -5.75990326e+00, -3.64184598e+00,\n",
       "        5.35540523e+00, -2.27972344e+00, -3.57517429e+00,  3.52379346e+00,\n",
       "        2.12257629e+00, -1.15808277e+01, -6.61745257e+00,  9.76753960e+00,\n",
       "        2.08776135e+00,  3.96675411e+00,  6.58685823e+00,  6.97883565e+00,\n",
       "        1.78104533e+00,  5.42450470e+00, -2.36130630e+00, -4.51079436e+00,\n",
       "       -2.12489419e+00,  2.06214751e+00,  6.07332103e+00,  1.41097255e+00,\n",
       "       -4.72037658e+00, -5.45434050e+00,  9.85515211e-01, -4.20180126e-01,\n",
       "       -1.35237671e+00,  8.21917419e+00,  5.71617040e-01, -5.15604641e+00,\n",
       "       -1.28065824e+01,  5.91483247e-01,  3.89299878e+00,  1.37220236e+00,\n",
       "        3.84295993e+00,  2.43727121e+00,  3.25114139e+00, -4.31553367e+00,\n",
       "        3.15757188e+00, -6.20563708e-01,  7.80961318e-01, -4.29527385e+00,\n",
       "       -2.62419506e+00,  5.63912330e+00, -4.56758008e-01,  1.89768024e-01,\n",
       "        4.51663883e+00, -3.72597173e+00, -5.28668994e+00, -7.05177520e-01,\n",
       "        6.11212981e-01,  1.08237272e+01,  8.31282682e-01,  1.31437827e+00,\n",
       "        3.93707606e+00,  1.45997698e+00,  2.04665545e+00,  6.12492535e+00,\n",
       "       -9.16978672e+00,  3.99282564e-01, -4.32369853e+00, -5.29635522e+00,\n",
       "        5.09060095e-01,  1.09092243e+01,  6.81347059e+00, -3.16656472e+00,\n",
       "        4.52591889e+00, -3.48588723e+00, -1.42682478e+00, -4.31816771e+00,\n",
       "        1.36339627e+00,  2.14254774e+00, -2.13666200e+00,  6.62088734e+00,\n",
       "        5.81069644e+00, -5.68121931e+00,  4.56610056e+00,  8.51764035e-01,\n",
       "        3.86746377e+00, -4.31927937e+00, -2.85371427e+00, -1.30093454e+00,\n",
       "       -5.41892918e+00, -5.13525968e-02,  6.11706143e+00,  5.27174303e+00,\n",
       "       -1.72413478e-01,  8.03483089e+00, -2.93573123e+00,  1.48498014e+00,\n",
       "        2.10239342e+00,  6.46463410e+00,  6.40371038e+00,  1.02902123e+00,\n",
       "        7.42959497e+00, -2.94064475e+00, -8.94046361e-01,  7.46686225e+00,\n",
       "        2.74007686e+00,  1.05524759e+00,  2.24423851e-01, -2.23059121e+00,\n",
       "        3.38769817e+00,  4.45012863e+00, -3.63547177e-01,  2.14244217e+00,\n",
       "        1.01599145e+01, -4.29617118e+00, -7.01249362e-01,  5.71106145e+00,\n",
       "        5.72755830e-01, -2.54330195e-01, -5.98769798e+00,  5.17936340e+00,\n",
       "       -9.75050796e-01,  1.48447404e+00, -2.00739430e+00, -5.48114551e+00,\n",
       "       -5.22764314e+00, -1.72790322e-01, -3.35488075e+00,  5.58186523e+00,\n",
       "       -3.44582823e+00, -2.54327885e-01, -1.35705503e+00,  2.35578993e+00,\n",
       "        6.26556518e+00,  1.58822785e+00,  7.38909744e+00,  3.63739332e+00,\n",
       "        4.17192386e-01,  2.21139653e+00, -6.09780124e+00,  4.46504489e+00,\n",
       "       -1.61990308e+00, -6.68140823e-02, -1.34998255e+00,  6.35191082e-01,\n",
       "       -1.25090198e+00, -3.11592865e+00,  3.49096523e+00, -4.41516515e+00,\n",
       "       -3.10886242e+00, -4.28322183e+00,  2.66927766e+00,  3.30165032e+00,\n",
       "        1.21294826e-01,  6.07747747e+00, -3.60019183e+00, -1.04007815e+01,\n",
       "       -4.71004484e+00,  1.70700502e+00,  1.54245360e+01,  6.38018285e+00,\n",
       "        5.14752084e+00,  5.06655539e+00,  5.71415438e-01, -7.69649050e-01,\n",
       "        2.32806596e+00, -1.49257684e+00,  7.05467221e+00,  3.55937885e+00,\n",
       "        5.11008274e+00,  3.13039287e+00, -1.53659038e+00,  1.15211242e+01,\n",
       "       -1.44180164e+00,  2.84773337e+00, -2.10441557e+00,  4.15151652e+00,\n",
       "        2.48464796e+00, -1.45112558e+00,  4.48144436e-01, -9.85971430e+00,\n",
       "       -3.40009508e+00,  2.84780231e+00, -2.69301898e+00,  7.11440358e+00,\n",
       "       -1.95954958e-01,  2.85847320e+00, -3.28064822e-01, -2.86260592e+00,\n",
       "        5.71934505e+00,  5.93541047e+00,  6.32356862e+00,  2.55310938e+00,\n",
       "       -4.36578828e+00,  3.55816507e+00,  5.19570268e+00, -8.52367709e+00,\n",
       "        3.45412343e-01,  1.45914873e+00, -4.26481124e+00,  2.23330252e+00,\n",
       "        5.35942613e+00, -9.85332234e-01, -9.02229414e+00,  1.19850450e+01,\n",
       "       -6.81393306e+00, -2.97403169e+00, -2.78483181e+00,  1.92744568e+00,\n",
       "       -7.65129747e+00, -1.64553836e-01, -1.23794588e+00,  9.10844192e-01,\n",
       "       -2.33123616e-01, -5.44359227e+00, -1.60689990e+00, -1.68118166e+00,\n",
       "       -5.13263843e+00, -4.37524623e-01,  1.56002068e+01,  5.17676925e+00,\n",
       "        2.45226603e-03,  9.06572432e-01, -2.77086617e+00,  7.43566669e+00,\n",
       "        4.29338885e+00, -7.34050680e+00,  5.51788565e+00, -3.97168193e+00,\n",
       "       -1.89363781e+00,  7.81133324e+00, -1.97260176e+00,  9.89168044e+00,\n",
       "        9.98130862e-01,  8.93974396e+00, -2.32493081e+00,  1.05048567e+00,\n",
       "       -6.64830975e+00,  5.71884933e+00,  1.93011370e+00, -2.96920373e+00,\n",
       "        8.75363301e-01,  5.23327627e+00,  9.38139056e+00, -7.51705426e-01,\n",
       "       -1.01468396e+01, -1.59853533e+00,  2.99724634e+00, -6.51209129e+00,\n",
       "       -4.67898923e+00,  5.65672957e+00,  3.40853996e+00, -7.44265747e+00,\n",
       "        1.17490410e+01,  5.01813150e+00,  4.00231361e+00, -1.86154439e+00,\n",
       "        1.21185793e+01,  1.17017031e+00,  3.58026063e+00,  6.34678093e+00,\n",
       "       -3.34736638e+00,  9.22810920e-01,  3.23609312e+00,  1.33692454e+00,\n",
       "       -5.40665415e-01, -2.77198593e+00, -1.59218043e-01,  1.78764969e+00,\n",
       "       -7.58935907e+00,  1.07754613e+00, -3.38134181e+00,  3.83291718e+00,\n",
       "        4.41911398e+00, -4.20313393e+00, -7.73057904e-01,  3.48036713e+00,\n",
       "       -3.53779950e-01,  6.10504956e+00,  9.05727455e+00,  4.16831141e+00,\n",
       "       -4.90342766e+00,  2.24569503e+00,  1.11648199e+01, -1.86566252e+00,\n",
       "        6.56215234e+00,  5.04679365e+00,  1.02973881e+01,  5.98319633e+00,\n",
       "        3.03365430e+00, -4.53917520e+00, -4.41594544e+00,  5.39572596e+00,\n",
       "       -8.29330508e+00, -1.48161881e-01,  3.30815274e+00,  9.08633665e+00,\n",
       "        6.18738961e+00, -6.72073278e+00,  3.67853228e+00, -2.12344052e+00,\n",
       "        3.94152243e+00,  5.67471845e+00, -2.45748184e+00, -3.21516295e-01,\n",
       "       -3.97363200e+00, -3.18747867e+00,  6.47965770e-01, -1.70937431e+00])"
      ]
     },
     "execution_count": 53,
     "metadata": {},
     "output_type": "execute_result"
    }
   ],
   "source": [
    "x=random.normal(loc=1,scale=5,size=(1000))\n",
    "x"
   ]
  },
  {
   "cell_type": "code",
   "execution_count": 54,
   "metadata": {},
   "outputs": [],
   "source": [
    "import matplotlib.pyplot as plt"
   ]
  },
  {
   "cell_type": "code",
   "execution_count": 55,
   "metadata": {},
   "outputs": [],
   "source": [
    "import seaborn as sns"
   ]
  },
  {
   "cell_type": "code",
   "execution_count": 56,
   "metadata": {},
   "outputs": [
    {
     "data": {
      "text/plain": [
       "<matplotlib.axes._subplots.AxesSubplot at 0x228ed092700>"
      ]
     },
     "execution_count": 56,
     "metadata": {},
     "output_type": "execute_result"
    },
    {
     "data": {
      "image/png": "[encoded data removed]",
      "text/plain": [
       "<Figure size 432x288 with 1 Axes>"
      ]
     },
     "metadata": {
      "needs_background": "light"
     },
     "output_type": "display_data"
    }
   ],
   "source": [
    "sns.distplot(x,hist=False)"
   ]
  },
  {
   "cell_type": "code",
   "execution_count": 57,
   "metadata": {},
   "outputs": [
    {
     "data": {
      "text/plain": [
       "array([ 0.6956162 ,  1.05403313, -0.2633554 , ...,  0.3075234 ,\n",
       "       -0.14752856, -0.2977538 ])"
      ]
     },
     "execution_count": 57,
     "metadata": {},
     "output_type": "execute_result"
    }
   ],
   "source": [
    "population=random.normal(size=100000)\n",
    "population"
   ]
  },
  {
   "cell_type": "code",
   "execution_count": 58,
   "metadata": {},
   "outputs": [
    {
     "data": {
      "text/plain": [
       "<matplotlib.axes._subplots.AxesSubplot at 0x228ed0d33d0>"
      ]
     },
     "execution_count": 58,
     "metadata": {},
     "output_type": "execute_result"
    },
    {
     "data": {
      "image/png": "[encoded data removed]",
      "text/plain": [
       "<Figure size 432x288 with 1 Axes>"
      ]
     },
     "metadata": {
      "needs_background": "light"
     },
     "output_type": "display_data"
    }
   ],
   "source": [
    "sns.distplot(population)"
   ]
  },
  {
   "cell_type": "code",
   "execution_count": 59,
   "metadata": {},
   "outputs": [
    {
     "data": {
      "text/plain": [
       "-0.00033175345584124117"
      ]
     },
     "execution_count": 59,
     "metadata": {},
     "output_type": "execute_result"
    }
   ],
   "source": [
    "np.mean(population)"
   ]
  },
  {
   "cell_type": "code",
   "execution_count": 60,
   "metadata": {},
   "outputs": [
    {
     "data": {
      "text/plain": [
       "array([0.54002745, 1.43512525, 1.40543991, ..., 1.17277827, 0.13027373,\n",
       "       0.82804728])"
      ]
     },
     "execution_count": 60,
     "metadata": {},
     "output_type": "execute_result"
    }
   ],
   "source": [
    "sample1=np.random.choice(population,10000)\n",
    "sample1"
   ]
  },
  {
   "cell_type": "code",
   "execution_count": 61,
   "metadata": {},
   "outputs": [],
   "source": [
    "sample1=np.random.choice(population,10000)\n",
    "sample2=np.random.choice(population,10000)\n",
    "sample3=np.random.choice(population,10000)\n",
    "sample4=np.random.choice(population,10000)\n",
    "sample5=np.random.choice(population,10000)"
   ]
  },
  {
   "cell_type": "code",
   "execution_count": 62,
   "metadata": {},
   "outputs": [],
   "source": [
    "all_sample=[sample1,sample2,sample3,sample4,sample5]\n",
    "sample_mean=[]\n",
    "for i in all_sample:\n",
    "    sample_mean.append(np.mean(i))"
   ]
  },
  {
   "cell_type": "code",
   "execution_count": 63,
   "metadata": {},
   "outputs": [
    {
     "data": {
      "text/plain": [
       "[-0.007013272355598829,\n",
       " -0.004846005164346184,\n",
       " -0.0077779658574192705,\n",
       " 0.007856179643478046,\n",
       " -0.014989593074051137]"
      ]
     },
     "execution_count": 63,
     "metadata": {},
     "output_type": "execute_result"
    }
   ],
   "source": [
    "sample_mean"
   ]
  },
  {
   "cell_type": "code",
   "execution_count": 64,
   "metadata": {},
   "outputs": [
    {
     "data": {
      "text/plain": [
       "-0.005354131361587475"
      ]
     },
     "execution_count": 64,
     "metadata": {},
     "output_type": "execute_result"
    }
   ],
   "source": [
    "np.mean(sample_mean)"
   ]
  },
  {
   "cell_type": "code",
   "execution_count": null,
   "metadata": {},
   "outputs": [],
   "source": []
  }
 ],
 "metadata": {
  "kernelspec": {
   "display_name": "Python 3",
   "language": "python",
   "name": "python3"
  },
  "language_info": {
   "codemirror_mode": {
    "name": "ipython",
    "version": 3
   },
   "file_extension": ".py",
   "mimetype": "text/x-python",
   "name": "python",
   "nbconvert_exporter": "python",
   "pygments_lexer": "ipython3",
   "version": "3.8.3"
  }
 },
 "nbformat": 4,
 "nbformat_minor": 4
}
